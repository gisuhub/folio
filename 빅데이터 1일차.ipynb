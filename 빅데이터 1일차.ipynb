{
 "cells": [
  {
   "cell_type": "code",
   "execution_count": 96,
   "id": "6d3e555b",
   "metadata": {},
   "outputs": [
    {
     "data": {
      "text/plain": [
       "8"
      ]
     },
     "execution_count": 96,
     "metadata": {},
     "output_type": "execute_result"
    }
   ],
   "source": [
    "o = 5\n",
    "b=3\n",
    "\n",
    "y = o+b\n",
    "y"
   ]
  },
  {
   "cell_type": "code",
   "execution_count": 95,
   "id": "cf0fa568",
   "metadata": {},
   "outputs": [
    {
     "name": "stdout",
     "output_type": "stream",
     "text": [
      "<class 'int'>\n",
      "0\n"
     ]
    }
   ],
   "source": [
    "a= 3\n",
    "b = 5\n",
    "c=a//b\n",
    "print(type(c))\n",
    "print(c)"
   ]
  },
  {
   "cell_type": "code",
   "execution_count": 97,
   "id": "ec605064",
   "metadata": {},
   "outputs": [
    {
     "name": "stdout",
     "output_type": "stream",
     "text": [
      "5\n",
      "5님 환영합니다.\n"
     ]
    }
   ],
   "source": [
    "name = input()\n",
    "\n",
    "print(f'{name}님 환영합니다.')"
   ]
  },
  {
   "cell_type": "code",
   "execution_count": 98,
   "id": "1323b0ab",
   "metadata": {},
   "outputs": [
    {
     "data": {
      "text/plain": [
       "str"
      ]
     },
     "execution_count": 98,
     "metadata": {},
     "output_type": "execute_result"
    }
   ],
   "source": [
    "type(name)"
   ]
  },
  {
   "cell_type": "code",
   "execution_count": 8,
   "id": "e9b0f205",
   "metadata": {},
   "outputs": [
    {
     "name": "stdout",
     "output_type": "stream",
     "text": [
      "2\n",
      "4\n",
      "6\n",
      "8\n",
      "10\n"
     ]
    }
   ],
   "source": [
    "for i in range(1,11):\n",
    "    if i%2==0:\n",
    "        print(i)\n"
   ]
  },
  {
   "cell_type": "code",
   "execution_count": 115,
   "id": "ca6b3e74",
   "metadata": {},
   "outputs": [
    {
     "name": "stdout",
     "output_type": "stream",
     "text": [
      "25는 홀수의 합입니다.\n",
      "30는 짝수의 합입니다.\n"
     ]
    }
   ],
   "source": [
    "sum=0\n",
    "sub = 0\n",
    "for i in range(1,11):\n",
    "    if i%2==1:\n",
    "        sum+=i\n",
    "    elif i%2==0:\n",
    "        sub+=i\n",
    "    \n",
    "print(f'{sum}는 홀수의 합입니다.')\n",
    "print(f'{sub}는 짝수의 합입니다.')"
   ]
  },
  {
   "cell_type": "code",
   "execution_count": 116,
   "id": "9a3b4cdb",
   "metadata": {},
   "outputs": [
    {
     "name": "stdout",
     "output_type": "stream",
     "text": [
      "15\n",
      "22\n",
      "18\n"
     ]
    }
   ],
   "source": [
    "sum=0\n",
    "sub = 0\n",
    "sui = 0\n",
    "for i in range(1,11):\n",
    "    if i%3==2:\n",
    "        sum+=i\n",
    "    elif i%3==1:\n",
    "        sub+=i\n",
    "    elif i%3==0:\n",
    "        sui+=i\n",
    "    \n",
    "print(f'{sum}')\n",
    "print(f'{sub}')\n",
    "print(f'{sui}')"
   ]
  },
  {
   "cell_type": "code",
   "execution_count": 120,
   "id": "1166f64e",
   "metadata": {},
   "outputs": [
    {
     "data": {
      "text/plain": [
       "[1, 2, 3.123, '앙', 56.3, 3, 4, 5]"
      ]
     },
     "execution_count": 120,
     "metadata": {},
     "output_type": "execute_result"
    }
   ],
   "source": [
    "lio = [1,2,3.123,'앙',56.3,3,4,5]\n",
    "lio"
   ]
  },
  {
   "cell_type": "code",
   "execution_count": 121,
   "id": "403303f0",
   "metadata": {},
   "outputs": [
    {
     "name": "stdout",
     "output_type": "stream",
     "text": [
      "1:2:3.123:앙:56.3:3:4:5:"
     ]
    }
   ],
   "source": [
    "for i in lio:\n",
    "    print(i,end=\":\")"
   ]
  },
  {
   "cell_type": "code",
   "execution_count": 122,
   "id": "42f7cda6",
   "metadata": {},
   "outputs": [
    {
     "data": {
      "text/plain": [
       "[5, 4, 3, 56.3, '앙', 3.123, 2, 1]"
      ]
     },
     "execution_count": 122,
     "metadata": {},
     "output_type": "execute_result"
    }
   ],
   "source": [
    "reversed_list = lio[::-1]\n",
    "reversed_list"
   ]
  },
  {
   "cell_type": "code",
   "execution_count": 123,
   "id": "d60097fe",
   "metadata": {},
   "outputs": [
    {
     "data": {
      "text/plain": [
       "list"
      ]
     },
     "execution_count": 123,
     "metadata": {},
     "output_type": "execute_result"
    }
   ],
   "source": [
    "type(lio)"
   ]
  },
  {
   "cell_type": "code",
   "execution_count": 129,
   "id": "edda7fd0",
   "metadata": {},
   "outputs": [
    {
     "name": "stdout",
     "output_type": "stream",
     "text": [
      "!dlroW,olleH"
     ]
    }
   ],
   "source": [
    "uuu = 'H e l l o , W o r l d !'\n",
    "\n",
    "uuu = uuu.split(' ')\n",
    "\n",
    "for i in range(1,13):\n",
    "    print(uuu[-i],end='')"
   ]
  },
  {
   "cell_type": "code",
   "execution_count": 13,
   "id": "594272ef",
   "metadata": {},
   "outputs": [
    {
     "name": "stdout",
     "output_type": "stream",
     "text": [
      "3 4\n"
     ]
    },
    {
     "data": {
      "text/plain": [
       "12"
      ]
     },
     "execution_count": 13,
     "metadata": {},
     "output_type": "execute_result"
    }
   ],
   "source": [
    "a, b = map(int,input().split())\n",
    "a * b"
   ]
  },
  {
   "cell_type": "code",
   "execution_count": 15,
   "id": "aa9a667f",
   "metadata": {},
   "outputs": [
    {
     "data": {
      "text/plain": [
       "3"
      ]
     },
     "execution_count": 15,
     "metadata": {},
     "output_type": "execute_result"
    }
   ],
   "source": [
    "lio[2]"
   ]
  },
  {
   "cell_type": "code",
   "execution_count": 77,
   "id": "0ad16a09",
   "metadata": {},
   "outputs": [
    {
     "data": {
      "text/plain": [
       "15"
      ]
     },
     "execution_count": 77,
     "metadata": {},
     "output_type": "execute_result"
    }
   ],
   "source": [
    "lio[0]+lio[1]+lio[2]+lio[3]+lio[4]\n",
    "\n"
   ]
  },
  {
   "cell_type": "code",
   "execution_count": 65,
   "id": "d3297c05",
   "metadata": {},
   "outputs": [
    {
     "data": {
      "text/plain": [
       "'pythonpythonpython'"
      ]
     },
     "execution_count": 65,
     "metadata": {},
     "output_type": "execute_result"
    }
   ],
   "source": [
    "yu = \"python\"\n",
    "\n",
    "yu*3"
   ]
  },
  {
   "cell_type": "code",
   "execution_count": 135,
   "id": "6f06ae30",
   "metadata": {},
   "outputs": [
    {
     "name": "stdout",
     "output_type": "stream",
     "text": [
      "\n",
      "1 2 3 4 5 6 7 8 9 \n",
      "2 4 6 8 10 12 14 16 18 \n",
      "3 6 9 12 15 18 21 24 27 \n",
      "4 8 12 16 20 24 28 32 36 \n",
      "5 10 15 20 25 30 35 40 45 \n",
      "6 12 18 24 30 36 42 48 54 \n",
      "7 14 21 28 35 42 49 56 63 \n",
      "8 16 24 32 40 48 56 64 72 \n",
      "9 18 27 36 45 54 63 72 81 "
     ]
    }
   ],
   "source": [
    "for i in range(1,10):\n",
    "    print()\n",
    "    for j in range(1,10):\n",
    "        print(i*j,end=\" \")"
   ]
  }
 ],
 "metadata": {
  "kernelspec": {
   "display_name": "Python 3 (ipykernel)",
   "language": "python",
   "name": "python3"
  },
  "language_info": {
   "codemirror_mode": {
    "name": "ipython",
    "version": 3
   },
   "file_extension": ".py",
   "mimetype": "text/x-python",
   "name": "python",
   "nbconvert_exporter": "python",
   "pygments_lexer": "ipython3",
   "version": "3.10.9"
  }
 },
 "nbformat": 4,
 "nbformat_minor": 5
}
