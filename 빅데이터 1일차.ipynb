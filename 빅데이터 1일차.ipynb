{
 "cells": [
  {
   "cell_type": "code",
   "execution_count": 96,
   "id": "25eff4e2",
   "metadata": {},
   "outputs": [
    {
     "data": {
      "text/plain": [
       "8"
      ]
     },
     "execution_count": 96,
     "metadata": {},
     "output_type": "execute_result"
    }
   ],
   "source": [
    "o = 5\n",
    "b=3\n",
    "\n",
    "y = o+b\n",
    "y"
   ]
  },
  {
   "cell_type": "code",
   "execution_count": 95,
   "id": "452b66f9",
   "metadata": {},
   "outputs": [
    {
     "name": "stdout",
     "output_type": "stream",
     "text": [
      "<class 'int'>\n",
      "0\n"
     ]
    }
   ],
   "source": [
    "a= 3\n",
    "b = 5\n",
    "c=a//b\n",
    "print(type(c))\n",
    "print(c)"
   ]
  },
  {
   "cell_type": "code",
   "execution_count": 97,
   "id": "eaf326df",
   "metadata": {},
   "outputs": [
    {
     "name": "stdout",
     "output_type": "stream",
     "text": [
      "5\n",
      "5님 환영합니다.\n"
     ]
    }
   ],
   "source": [
    "name = input()\n",
    "\n",
    "print(f'{name}님 환영합니다.')"
   ]
  },
  {
   "cell_type": "code",
   "execution_count": 98,
   "id": "01ac1722",
   "metadata": {},
   "outputs": [
    {
     "data": {
      "text/plain": [
       "str"
      ]
     },
     "execution_count": 98,
     "metadata": {},
     "output_type": "execute_result"
    }
   ],
   "source": [
    "type(name)"
   ]
  },
  {
   "cell_type": "code",
   "execution_count": 8,
   "id": "d67c3f60",
   "metadata": {},
   "outputs": [
    {
     "name": "stdout",
     "output_type": "stream",
     "text": [
      "2\n",
      "4\n",
      "6\n",
      "8\n",
      "10\n"
     ]
    }
   ],
   "source": [
    "for i in range(1,11):\n",
    "    if i%2==0:\n",
    "        print(i)\n"
   ]
  },
  {
   "cell_type": "code",
   "execution_count": 115,
   "id": "c4d32489",
   "metadata": {},
   "outputs": [
    {
     "name": "stdout",
     "output_type": "stream",
     "text": [
      "25는 홀수의 합입니다.\n",
      "30는 짝수의 합입니다.\n"
     ]
    }
   ],
   "source": [
    "sum=0\n",
    "sub = 0\n",
    "for i in range(1,11):\n",
    "    if i%2==1:\n",
    "        sum+=i\n",
    "    elif i%2==0:\n",
    "        sub+=i\n",
    "    \n",
    "print(f'{sum}는 홀수의 합입니다.')\n",
    "print(f'{sub}는 짝수의 합입니다.')"
   ]
  },
  {
   "cell_type": "code",
   "execution_count": 116,
   "id": "e89de2d7",
   "metadata": {},
   "outputs": [
    {
     "name": "stdout",
     "output_type": "stream",
     "text": [
      "15\n",
      "22\n",
      "18\n"
     ]
    }
   ],
   "source": [
    "sum=0\n",
    "sub = 0\n",
    "sui = 0\n",
    "for i in range(1,11):\n",
    "    if i%3==2:\n",
    "        sum+=i\n",
    "    elif i%3==1:\n",
    "        sub+=i\n",
    "    elif i%3==0:\n",
    "        sui+=i\n",
    "    \n",
    "print(f'{sum}')\n",
    "print(f'{sub}')\n",
    "print(f'{sui}')"
   ]
  },
  {
   "cell_type": "code",
   "execution_count": 120,
   "id": "68ed5161",
   "metadata": {},
   "outputs": [
    {
     "data": {
      "text/plain": [
       "[1, 2, 3.123, '앙', 56.3, 3, 4, 5]"
      ]
     },
     "execution_count": 120,
     "metadata": {},
     "output_type": "execute_result"
    }
   ],
   "source": [
    "lio = [1,2,3.123,'앙',56.3,3,4,5]\n",
    "lio"
   ]
  },
  {
   "cell_type": "code",
   "execution_count": 121,
   "id": "4a779d1b",
   "metadata": {},
   "outputs": [
    {
     "name": "stdout",
     "output_type": "stream",
     "text": [
      "1:2:3.123:앙:56.3:3:4:5:"
     ]
    }
   ],
   "source": [
    "for i in lio:\n",
    "    print(i,end=\":\")"
   ]
  },
  {
   "cell_type": "code",
   "execution_count": 122,
   "id": "1f5e42e2",
   "metadata": {},
   "outputs": [
    {
     "data": {
      "text/plain": [
       "[5, 4, 3, 56.3, '앙', 3.123, 2, 1]"
      ]
     },
     "execution_count": 122,
     "metadata": {},
     "output_type": "execute_result"
    }
   ],
   "source": [
    "reversed_list = lio[::-1]\n",
    "reversed_list"
   ]
  },
  {
   "cell_type": "code",
   "execution_count": 123,
   "id": "f0ecc3cb",
   "metadata": {},
   "outputs": [
    {
     "data": {
      "text/plain": [
       "list"
      ]
     },
     "execution_count": 123,
     "metadata": {},
     "output_type": "execute_result"
    }
   ],
   "source": [
    "type(lio)"
   ]
  },
  {
   "cell_type": "code",
   "execution_count": 129,
   "id": "ad6daf70",
   "metadata": {},
   "outputs": [
    {
     "name": "stdout",
     "output_type": "stream",
     "text": [
      "!dlroW,olleH"
     ]
    }
   ],
   "source": [
    "uuu = 'H e l l o , W o r l d !'\n",
    "\n",
    "uuu = uuu.split(' ')\n",
    "\n",
    "for i in range(1,13):\n",
    "    print(uuu[-i],end='')"
   ]
  },
  {
   "cell_type": "code",
   "execution_count": 13,
   "id": "ce994c94",
   "metadata": {},
   "outputs": [
    {
     "name": "stdout",
     "output_type": "stream",
     "text": [
      "3 4\n"
     ]
    },
    {
     "data": {
      "text/plain": [
       "12"
      ]
     },
     "execution_count": 13,
     "metadata": {},
     "output_type": "execute_result"
    }
   ],
   "source": [
    "a, b = map(int,input().split())\n",
    "a * b"
   ]
  },
  {
   "cell_type": "code",
   "execution_count": 15,
   "id": "97696bfd",
   "metadata": {},
   "outputs": [
    {
     "data": {
      "text/plain": [
       "3"
      ]
     },
     "execution_count": 15,
     "metadata": {},
     "output_type": "execute_result"
    }
   ],
   "source": [
    "lio[2]"
   ]
  },
  {
   "cell_type": "code",
   "execution_count": 77,
   "id": "941cfc17",
   "metadata": {},
   "outputs": [
    {
     "data": {
      "text/plain": [
       "15"
      ]
     },
     "execution_count": 77,
     "metadata": {},
     "output_type": "execute_result"
    }
   ],
   "source": [
    "lio[0]+lio[1]+lio[2]+lio[3]+lio[4]\n"
   ]
  },
  {
   "cell_type": "code",
   "execution_count": 65,
   "id": "a07dd272",
   "metadata": {},
   "outputs": [
    {
     "data": {
      "text/plain": [
       "'pythonpythonpython'"
      ]
     },
     "execution_count": 65,
     "metadata": {},
     "output_type": "execute_result"
    }
   ],
   "source": [
    "yu = \"python\"\n",
    "\n",
    "yu*3"
   ]
  }
 ],
 "metadata": {
  "kernelspec": {
   "display_name": "Python 3 (ipykernel)",
   "language": "python",
   "name": "python3"
  },
  "language_info": {
   "codemirror_mode": {
    "name": "ipython",
    "version": 3
   },
   "file_extension": ".py",
   "mimetype": "text/x-python",
   "name": "python",
   "nbconvert_exporter": "python",
   "pygments_lexer": "ipython3",
   "version": "3.10.9"
  }
 },
 "nbformat": 4,
 "nbformat_minor": 5
}
