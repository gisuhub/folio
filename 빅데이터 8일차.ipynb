{
 "cells": [
  {
   "cell_type": "code",
   "execution_count": 6,
   "id": "0dd3f38f",
   "metadata": {},
   "outputs": [],
   "source": [
    "class Student:\n",
    "    num = 1\n",
    "    name = \"\"\n",
    "    \n",
    "    def __init__(self,num,name):\n",
    "        self.num = num\n",
    "        self.name = name\n",
    "        \n",
    "    def get_info(self):\n",
    "        return [self.num,self.name]"
   ]
  },
  {
   "cell_type": "code",
   "execution_count": 11,
   "id": "6a7815d8",
   "metadata": {},
   "outputs": [],
   "source": [
    "class Room:\n",
    "    num = 1\n",
    "    def __init__(self,num):\n",
    "        self.num = num\n",
    "        self.stu_dict = dict()\n",
    "        \n",
    "    def is_in_stu_num(self,num):\n",
    "        if(num in self.stu_dict):\n",
    "            return True\n",
    "        else:\n",
    "            return False\n",
    "    def get_stu_info(self,num):\n",
    "        try :\n",
    "            return self.stu_dict(num)\n",
    "        except KeyError :\n",
    "            return \"\"\n",
    "        \n",
    "    def add_stu(self,stu):\n",
    "        self.stu_dict[stu.get_info()[0]] = stu.get_info()[1]\n",
    "        \n",
    "    def del_stu(self,num) :\n",
    "        try:\n",
    "            del self.stu_dict[num]\n",
    "        except KeyError:\n",
    "            pass\n",
    "        \n",
    "    def mod_stu(self,stu_num,stu_name):\n",
    "        try:\n",
    "            self.stu_dict[stu_num] = stu_name\n",
    "        except KeyError:\n",
    "            pass\n",
    "            "
   ]
  },
  {
   "cell_type": "code",
   "execution_count": 12,
   "id": "339c6fce",
   "metadata": {},
   "outputs": [
    {
     "name": "stdout",
     "output_type": "stream",
     "text": [
      "이름을 입력하세요. : \n",
      "나이를 입력해주세요. : 9\n",
      "사는 곳을 입력해주세요. : \n",
      "{'name': '', 'age': 9, 'city': ''}\n"
     ]
    }
   ],
   "source": [
    "my_dict = {}\n",
    "name = input(\"이름을 입력하세요. : \")\n",
    "age = int(input(\"나이를 입력해주세요. : \"))\n",
    "city = input(\"사는 곳을 입력해주세요. : \")\n",
    "\n",
    "my_dict['name'] = name\n",
    "my_dict['age'] = age\n",
    "my_dict['city'] = city\n",
    "\n",
    "print(my_dict)\n"
   ]
  },
  {
   "cell_type": "code",
   "execution_count": 13,
   "id": "ccbafd8d",
   "metadata": {},
   "outputs": [
    {
     "data": {
      "text/plain": [
       "{1: 'hong', 2: 'lee'}"
      ]
     },
     "execution_count": 13,
     "metadata": {},
     "output_type": "execute_result"
    }
   ],
   "source": [
    "student1 = Student(1,'hong')\n",
    "room1 = Room(1)\n",
    "\n",
    "room1.add_stu(student1)\n",
    "room1.mod_stu(2,'lee')\n",
    "\n",
    "room1.stu_dict"
   ]
  },
  {
   "cell_type": "code",
   "execution_count": 15,
   "id": "4682c024",
   "metadata": {},
   "outputs": [],
   "source": [
    "class manager :\n",
    "    def __init__(self) :\n",
    "        self.room_dict = dict()\n",
    "        \n",
    "    def add_room(self):\n",
    "        self.room_dict[len(self.room_dict)+1] = room(len(self.room_dict)+1)\n",
    "        \n",
    "    def add_stu(self, room_num, stu):\n",
    "        try :\n",
    "            self.room_dict(room_num).add_stu(stu)\n",
    "        except KeyError :\n",
    "            print(\"없는 교실입니다.\")\n",
    "            \n",
    "    def del_stu(self, stu_num):\n",
    "        for i in range(len(self.room_dict)):\n",
    "            self.room_dict[i+1].del_stu(stu_num)\n",
    "    def mod_stu(self,stu_num,mod_name):\n",
    "        for i in range(len(self.room_dict)):\n",
    "            self.room_dict[i+1].mod_stu(stu_num)\n",
    "    def print_stu(self, stu_name):\n",
    "        for i in range(len(self.room_dict)):\n",
    "            value = self.room_dict[i+1].get_stu_info(stu_name)\n",
    "            if(len(value) != 0):\n",
    "                print(value)\n",
    "                break\n",
    "    def show_room(self):\n",
    "        print(\"현재 \"+str(self.room_dict)+\"의 교실이 있습니다.\")"
   ]
  },
  {
   "cell_type": "code",
   "execution_count": null,
   "id": "bcb7b2e5",
   "metadata": {},
   "outputs": [],
   "source": [
    "manager1 = manager()\n"
   ]
  }
 ],
 "metadata": {
  "kernelspec": {
   "display_name": "Python 3 (ipykernel)",
   "language": "python",
   "name": "python3"
  },
  "language_info": {
   "codemirror_mode": {
    "name": "ipython",
    "version": 3
   },
   "file_extension": ".py",
   "mimetype": "text/x-python",
   "name": "python",
   "nbconvert_exporter": "python",
   "pygments_lexer": "ipython3",
   "version": "3.10.9"
  }
 },
 "nbformat": 4,
 "nbformat_minor": 5
}
