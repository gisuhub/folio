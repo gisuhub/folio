{
 "cells": [
  {
   "cell_type": "code",
   "execution_count": 15,
   "id": "a76d3684",
   "metadata": {},
   "outputs": [
    {
     "name": "stdout",
     "output_type": "stream",
     "text": [
      "{'삼다수': 700, '에비앙': 1200, '토레타': 2000, '포카리': 2100, '게토레이': 2200, '코카콜라': 2500, '펩시콜라': 2000, '사이다': 2300}\n",
      "어떤 음료를 드실건가요? : 사이다\n",
      "2300원 입니다.\n",
      "카드로 결제하시겠습니까? 현금으로 결제하시겠습니까?(카드 or 현금) : 현금\n",
      "현금이 선택되었습니다. 2300원을 넣어주세요.\n",
      "800원이 부족하네요. 나가세요.\n"
     ]
    }
   ],
   "source": [
    "money = 1500\n",
    "card = 10000000\n",
    "\n",
    "\n",
    "japangi = {\"삼다수\":700,\"에비앙\":1200,\"토레타\":2000,\"포카리\":2100,\"게토레이\":2200,\"코카콜라\":2500,\"펩시콜라\":2000,\"사이다\":2300}\n",
    "print(japangi)\n",
    "choose = input(\"어떤 음료를 드실건가요? : \")\n",
    "\n",
    "print(f\"{japangi[choose]}원 입니다.\")\n",
    "\n",
    "prive = input(\"카드로 결제하시겠습니까? 현금으로 결제하시겠습니까?(카드 or 현금) : \")\n",
    "if prive == \"카드\":\n",
    "    print(\"카드가 선택되었습니다.\")\n",
    "    if card >= japangi[choose]:\n",
    "        print(\"결제가 완료되었습니다. 감사합니다.\")\n",
    "        card = card - japangi[choose]\n",
    "        print(f\"현재 잔액 : {card}\")\n",
    "    else:\n",
    "        print(f\"{japangi[choose]-card}원이 부족합니다.\")\n",
    "\n",
    "elif prive == \"현금\":\n",
    "    print(f\"현금이 선택되었습니다. {japangi[choose]}원을 넣어주세요.\")\n",
    "    if money >= japangi[choose]:\n",
    "        print(\"결제가 완료되었습니다. 거스름돈을 드리겠습니다.\")\n",
    "        re_money = money - japangi[choose]\n",
    "        if re_money == 0:\n",
    "            print(f\"감사합니다.\")\n",
    "        else:\n",
    "            print(f\"거스름돈은 {re_money}원 입니다.\")\n",
    "    else:\n",
    "        print(f\"{japangi[choose]-money}원이 부족하네요. 나가세요.\")"
   ]
  },
  {
   "cell_type": "code",
   "execution_count": 21,
   "id": "ffde0501",
   "metadata": {},
   "outputs": [],
   "source": [
    "import tkinter as tk\n",
    "\n",
    "def change_label_text():\n",
    "    if label.cget(\"text\") == \"Hello, Tkinter!\":\n",
    "        label.config(text=\"Button clicked!\")\n",
    "    else:\n",
    "        label.config(text=\"Hello, Tkinter!\")\n",
    "\n",
    "\n",
    "window = tk.Tk()\n",
    "window.title(\"Tkinter Example\")\n",
    "window.geometry(\"400x300\") #너비 300 높이 300\n",
    "label = tk.Label(window, text=\"Hello, Tkinter!\", padx=20, pady=10)\n",
    "label.pack()\n",
    "\n",
    "button = tk.Button(window,text=\"Click me!\", command=change_label_text)\n",
    "button.pack()\n",
    "\n",
    "window.mainloop()"
   ]
  },
  {
   "cell_type": "code",
   "execution_count": null,
   "id": "0d7d906f",
   "metadata": {},
   "outputs": [],
   "source": []
  }
 ],
 "metadata": {
  "kernelspec": {
   "display_name": "Python 3 (ipykernel)",
   "language": "python",
   "name": "python3"
  },
  "language_info": {
   "codemirror_mode": {
    "name": "ipython",
    "version": 3
   },
   "file_extension": ".py",
   "mimetype": "text/x-python",
   "name": "python",
   "nbconvert_exporter": "python",
   "pygments_lexer": "ipython3",
   "version": "3.10.9"
  }
 },
 "nbformat": 4,
 "nbformat_minor": 5
}
