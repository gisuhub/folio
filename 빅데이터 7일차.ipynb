{
 "cells": [
  {
   "cell_type": "markdown",
   "id": "e1a5e26c",
   "metadata": {},
   "source": [
    "### 클래스 함수를 구현해라"
   ]
  },
  {
   "cell_type": "code",
   "execution_count": 7,
   "id": "636e0e68",
   "metadata": {
    "scrolled": true
   },
   "outputs": [
    {
     "name": "stdout",
     "output_type": "stream",
     "text": [
      "이름 : 황성대\n",
      "학번 : 69748845\n",
      "학년 : 3\n",
      "이름 : 박기수\n",
      "학번 : 58774485\n",
      "학년 : 3\n"
     ]
    }
   ],
   "source": [
    "class student:\n",
    "    def __init__(self,name,student_id,grade=1):\n",
    "        self.name = name\n",
    "        self.student_id = student_id\n",
    "        self.grade = grade\n",
    "\n",
    "    def display_info(self):\n",
    "        print(f\"이름 : {self.name}\")\n",
    "        print(f\"학번 : {self.student_id}\")\n",
    "        print(f\"학년 : {self.grade}\")\n",
    "        \n",
    "        \n",
    "        \n",
    "        \n",
    "       \n",
    "\n",
    "        \n",
    "student1 = student(\"황성대\",\"69748845\", 3)\n",
    "student1.display_info()\n",
    "student2 = student(\"박기수\",\"58774485\",3)\n",
    "student2.display_info()"
   ]
  },
  {
   "cell_type": "code",
   "execution_count": 10,
   "id": "5908a3e0",
   "metadata": {},
   "outputs": [
    {
     "name": "stdout",
     "output_type": "stream",
     "text": [
      "이름 : 황성대\n",
      "학번 : 69748845\n",
      "학년 : 2\n"
     ]
    }
   ],
   "source": [
    "class student:\n",
    "    def __init__(self,name,student_id,grade=1):\n",
    "        self.name = name\n",
    "        self.student_id = student_id\n",
    "        self.grade = grade\n",
    "\n",
    "    def display_info(self):\n",
    "        print(f\"이름 : {self.name}\")\n",
    "        print(f\"학번 : {self.student_id}\")\n",
    "        print(f\"학년 : {self.grade}\")\n",
    "    def change_grade(self,new_grade):\n",
    "        self.grade = new_grade\n",
    "        \n",
    "        \n",
    "        \n",
    "       \n",
    "\n",
    "        \n",
    "student1 = student(\"황성대\",\"69748845\", 3)\n",
    "\n",
    "student1.change_grade(2)\n",
    "student1.display_info()\n"
   ]
  },
  {
   "cell_type": "code",
   "execution_count": 15,
   "id": "0b0271a5",
   "metadata": {},
   "outputs": [
    {
     "name": "stdout",
     "output_type": "stream",
     "text": [
      "3\n",
      "1\n"
     ]
    }
   ],
   "source": [
    "import mod1\n",
    "\n",
    "print(mod1.add(2,1))\n",
    "print(mod1.sub(2,1))"
   ]
  },
  {
   "cell_type": "code",
   "execution_count": 14,
   "id": "4fb4a858",
   "metadata": {},
   "outputs": [
    {
     "name": "stdout",
     "output_type": "stream",
     "text": [
      "20\n"
     ]
    }
   ],
   "source": [
    "import multyful\n",
    "\n",
    "print(multyful.multy(5,4))"
   ]
  },
  {
   "cell_type": "code",
   "execution_count": 18,
   "id": "3f8d646f",
   "metadata": {},
   "outputs": [
    {
     "name": "stdout",
     "output_type": "stream",
     "text": [
      "12.56\n",
      "3.14\n"
     ]
    }
   ],
   "source": [
    "import mod2\n",
    "a = mod2.Math()\n",
    "print(a.solv(2))\n",
    "\n",
    "print(mod2.PI)"
   ]
  },
  {
   "cell_type": "code",
   "execution_count": null,
   "id": "8e173268",
   "metadata": {},
   "outputs": [],
   "source": []
  }
 ],
 "metadata": {
  "kernelspec": {
   "display_name": "Python 3 (ipykernel)",
   "language": "python",
   "name": "python3"
  },
  "language_info": {
   "codemirror_mode": {
    "name": "ipython",
    "version": 3
   },
   "file_extension": ".py",
   "mimetype": "text/x-python",
   "name": "python",
   "nbconvert_exporter": "python",
   "pygments_lexer": "ipython3",
   "version": "3.10.9"
  }
 },
 "nbformat": 4,
 "nbformat_minor": 5
}
