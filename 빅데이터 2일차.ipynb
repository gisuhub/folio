{
 "cells": [
  {
   "cell_type": "code",
   "execution_count": 7,
   "id": "e2cf385b",
   "metadata": {},
   "outputs": [
    {
     "name": "stdout",
     "output_type": "stream",
     "text": [
      "합 : 4950\n",
      "평균 : 49\n"
     ]
    }
   ],
   "source": [
    "sum = 0\n",
    "\n",
    "for i in range(1,100):\n",
    "    sum+=i\n",
    "    i+=1\n",
    "    \n",
    "print(f'합 : {sum}')\n",
    "print(f'평균 : {sum//100}')"
   ]
  },
  {
   "cell_type": "code",
   "execution_count": 8,
   "id": "eec5f6ab",
   "metadata": {},
   "outputs": [],
   "source": [
    "def print_hi(name):\n",
    "    print(f'Hi,{name}')"
   ]
  },
  {
   "cell_type": "code",
   "execution_count": 9,
   "id": "95974302",
   "metadata": {},
   "outputs": [
    {
     "name": "stdout",
     "output_type": "stream",
     "text": [
      "Hi,Hello, World!\n"
     ]
    }
   ],
   "source": [
    "if __name__ == '__main__':\n",
    "    print_hi('Hello, World!')"
   ]
  },
  {
   "cell_type": "code",
   "execution_count": 11,
   "id": "5a3d979a",
   "metadata": {},
   "outputs": [
    {
     "name": "stdout",
     "output_type": "stream",
     "text": [
      "['jessa', 'kelly', 20, 35, 75]\n",
      "<class 'list'>\n"
     ]
    }
   ],
   "source": [
    "my_list = ['jessa','kelly',20,35,75]\n",
    "print(my_list)\n",
    "print(type(my_list))"
   ]
  },
  {
   "cell_type": "code",
   "execution_count": 13,
   "id": "815b949b",
   "metadata": {},
   "outputs": [
    {
     "name": "stdout",
     "output_type": "stream",
     "text": [
      "jessa\n"
     ]
    }
   ],
   "source": [
    "print(my_list[0])"
   ]
  },
  {
   "cell_type": "code",
   "execution_count": 15,
   "id": "bc4f8014",
   "metadata": {},
   "outputs": [
    {
     "name": "stdout",
     "output_type": "stream",
     "text": [
      "['kelly', 20, 35, 75]\n"
     ]
    }
   ],
   "source": [
    "print(my_list[1:5])"
   ]
  },
  {
   "cell_type": "code",
   "execution_count": 17,
   "id": "3af92e46",
   "metadata": {},
   "outputs": [
    {
     "name": "stdout",
     "output_type": "stream",
     "text": [
      "Emma\n"
     ]
    }
   ],
   "source": [
    "my_list[1] = 'Emma'\n",
    "print(my_list[1])"
   ]
  },
  {
   "cell_type": "code",
   "execution_count": 18,
   "id": "8a15a843",
   "metadata": {},
   "outputs": [
    {
     "name": "stdout",
     "output_type": "stream",
     "text": [
      "['Jessa', 'kelly', 20, 35, 75]\n"
     ]
    }
   ],
   "source": [
    "my_list2 = list(['Jessa','kelly',20,35,75])\n",
    "print(my_list2)"
   ]
  },
  {
   "cell_type": "code",
   "execution_count": 19,
   "id": "3e410682",
   "metadata": {},
   "outputs": [
    {
     "data": {
      "text/plain": [
       "[4, 1, 2, 3]"
      ]
     },
     "execution_count": 19,
     "metadata": {},
     "output_type": "execute_result"
    }
   ],
   "source": [
    "a = [1,2,3]\n",
    "\n",
    "a.insert(0,4)\n",
    "a"
   ]
  },
  {
   "cell_type": "code",
   "execution_count": 43,
   "id": "e3b76908",
   "metadata": {},
   "outputs": [
    {
     "name": "stdout",
     "output_type": "stream",
     "text": [
      "6\n"
     ]
    }
   ],
   "source": [
    "sum=0\n",
    "for x in [1,2,3]:\n",
    "    sum+=x\n",
    "    \n",
    "    \n",
    "    \n",
    "print(sum)\n",
    "\n",
    "\n"
   ]
  }
 ],
 "metadata": {
  "kernelspec": {
   "display_name": "Python 3 (ipykernel)",
   "language": "python",
   "name": "python3"
  },
  "language_info": {
   "codemirror_mode": {
    "name": "ipython",
    "version": 3
   },
   "file_extension": ".py",
   "mimetype": "text/x-python",
   "name": "python",
   "nbconvert_exporter": "python",
   "pygments_lexer": "ipython3",
   "version": "3.10.9"
  }
 },
 "nbformat": 4,
 "nbformat_minor": 5
}
