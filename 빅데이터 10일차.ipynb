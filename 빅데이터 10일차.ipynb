{
 "cells": [
  {
   "cell_type": "code",
   "execution_count": 1,
   "id": "40ac6fd6",
   "metadata": {},
   "outputs": [
    {
     "name": "stdout",
     "output_type": "stream",
     "text": [
      "1\n",
      "7\n"
     ]
    }
   ],
   "source": [
    "nums = [1,2,3,4,5,6,7]\n",
    "\n",
    "print(min(nums))\n",
    "print(max(nums))"
   ]
  },
  {
   "cell_type": "code",
   "execution_count": 127,
   "id": "5c2aa272",
   "metadata": {},
   "outputs": [],
   "source": [
    "class Human:\n",
    "    def __init__(self,name,age):  # Human 클래스의 생성자(constructor)\n",
    "        self.name = name\n",
    "        self.age = age\n",
    "        print(f\"{self.name} 우앙,앵응\")\n",
    "    def cry(self):\n",
    "        print(f'{self.name} 으앙으앙')\n",
    "    \n",
    "    def iam(self):\n",
    "        print(f\"{self.name} {self.age}\")\n",
    "        \n",
    "    def  after_age(self,age):\n",
    "        self.age = self.age+age\n",
    "        print(f\"{age}년 후 {self.age}살\")\n",
    "        \n",
    "    def change_name(self,new_name):\n",
    "        self.name = new_name\n",
    "        print(f\"새로운 이름은 : {self.name}\")\n",
    "        \n",
    "#     def __del__(self):\n",
    "#         print(\"죽었다.\")"
   ]
  },
  {
   "cell_type": "code",
   "execution_count": 128,
   "id": "42a95d6c",
   "metadata": {},
   "outputs": [
    {
     "name": "stdout",
     "output_type": "stream",
     "text": [
      "김준원 우앙,앵응\n",
      "김준원 19\n",
      "1년 후 20살\n"
     ]
    }
   ],
   "source": [
    "kim = Human('김준원',19)\n",
    "\n",
    "\n",
    "kim.iam()\n",
    "kim.after_age(1)"
   ]
  },
  {
   "cell_type": "code",
   "execution_count": 129,
   "id": "95a98327",
   "metadata": {},
   "outputs": [
    {
     "name": "stdout",
     "output_type": "stream",
     "text": [
      "김준원 우앙,앵응\n",
      "새로운 이름은 : 황성대\n",
      "황성대 19\n",
      "1년 후 20살\n"
     ]
    }
   ],
   "source": [
    "kim = Human('김준원',19)\n",
    "kim.change_name(\"황성대\")\n",
    "\n",
    "kim.iam()\n",
    "kim.after_age(1)"
   ]
  },
  {
   "cell_type": "code",
   "execution_count": 126,
   "id": "647280b5",
   "metadata": {},
   "outputs": [
    {
     "data": {
      "text/plain": [
       "__main__.Human"
      ]
     },
     "execution_count": 126,
     "metadata": {},
     "output_type": "execute_result"
    }
   ],
   "source": [
    "type(kim)"
   ]
  },
  {
   "cell_type": "code",
   "execution_count": 133,
   "id": "0fba8387",
   "metadata": {},
   "outputs": [],
   "source": [
    "class student(Human):\n",
    "    pass\n",
    "\n",
    "\n",
    "\n",
    "\n",
    "class teacher(Human):\n",
    "    pass"
   ]
  },
  {
   "cell_type": "code",
   "execution_count": 132,
   "id": "b3811a9b",
   "metadata": {},
   "outputs": [
    {
     "name": "stdout",
     "output_type": "stream",
     "text": [
      "김종남 우앙,앵응\n",
      "1년 후 20살\n"
     ]
    }
   ],
   "source": [
    "s1 = student(\"김종남\",19)\n",
    "s1.after_age(1)"
   ]
  },
  {
   "cell_type": "code",
   "execution_count": 134,
   "id": "81a8acba",
   "metadata": {},
   "outputs": [
    {
     "name": "stdout",
     "output_type": "stream",
     "text": [
      "김종순 우앙,앵응\n",
      "1년 후 70살\n"
     ]
    }
   ],
   "source": [
    "t1 = teacher(\"김종순\",69)\n",
    "t1.after_age(1)"
   ]
  }
 ],
 "metadata": {
  "kernelspec": {
   "display_name": "Python 3 (ipykernel)",
   "language": "python",
   "name": "python3"
  },
  "language_info": {
   "codemirror_mode": {
    "name": "ipython",
    "version": 3
   },
   "file_extension": ".py",
   "mimetype": "text/x-python",
   "name": "python",
   "nbconvert_exporter": "python",
   "pygments_lexer": "ipython3",
   "version": "3.10.9"
  }
 },
 "nbformat": 4,
 "nbformat_minor": 5
}
