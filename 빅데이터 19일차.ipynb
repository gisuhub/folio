{
 "cells": [
  {
   "cell_type": "code",
   "execution_count": 6,
   "id": "00c274e8",
   "metadata": {},
   "outputs": [
    {
     "name": "stdout",
     "output_type": "stream",
     "text": [
      "단어를 입력하세요. : alla\n",
      "True\n"
     ]
    }
   ],
   "source": [
    "word = input(\"단어를 입력하세요. : \")\n",
    "is_palindrome = True\n",
    "for i in range(len(word)//2):\n",
    "    if word[i] != word[-1 - i]:\n",
    "        is_palindrome = False\n",
    "        break\n",
    "        \n",
    "print(is_palindrome)"
   ]
  },
  {
   "cell_type": "code",
   "execution_count": 1,
   "id": "2b69f9f6",
   "metadata": {},
   "outputs": [
    {
     "name": "stdout",
     "output_type": "stream",
     "text": [
      "level\n",
      "level"
     ]
    }
   ],
   "source": [
    "word = input(\"\")\n",
    "\n",
    "l = len(word)\n",
    "\n",
    "for i in range(l):\n",
    "    print(word[i],end='')"
   ]
  },
  {
   "cell_type": "code",
   "execution_count": 7,
   "id": "6a31682b",
   "metadata": {},
   "outputs": [
    {
     "name": "stdout",
     "output_type": "stream",
     "text": [
      "반대로 출력될거야 ㅎ:sex\n"
     ]
    },
    {
     "data": {
      "text/plain": [
       "'xes'"
      ]
     },
     "execution_count": 7,
     "metadata": {},
     "output_type": "execute_result"
    }
   ],
   "source": [
    "# 어떤 글자를 입력받으면 글자를 반대 순서로 출력하라\n",
    "\n",
    "lwo = input(\"반대로 출력될거야 ㅎ:\")\n",
    "lwo[::-1]"
   ]
  },
  {
   "cell_type": "code",
   "execution_count": 10,
   "id": "da95464c",
   "metadata": {},
   "outputs": [
    {
     "name": "stdout",
     "output_type": "stream",
     "text": [
      "단어를 입력하세요 : 재손재\n",
      "True\n"
     ]
    }
   ],
   "source": [
    "word= input(\"단어를 입력하세요 : \")\n",
    "\n",
    "if word == word[::-1]:\n",
    "    print(\"True\")\n",
    "else:\n",
    "    print(\"False\")"
   ]
  }
 ],
 "metadata": {
  "kernelspec": {
   "display_name": "Python 3 (ipykernel)",
   "language": "python",
   "name": "python3"
  },
  "language_info": {
   "codemirror_mode": {
    "name": "ipython",
    "version": 3
   },
   "file_extension": ".py",
   "mimetype": "text/x-python",
   "name": "python",
   "nbconvert_exporter": "python",
   "pygments_lexer": "ipython3",
   "version": "3.10.9"
  }
 },
 "nbformat": 4,
 "nbformat_minor": 5
}
