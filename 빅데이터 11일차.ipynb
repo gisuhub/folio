{
 "cells": [
  {
   "cell_type": "markdown",
   "id": "ff19fdce",
   "metadata": {},
   "source": [
    "### 재귀함수"
   ]
  },
  {
   "cell_type": "code",
   "execution_count": 6,
   "id": "1d7eba88",
   "metadata": {},
   "outputs": [
    {
     "name": "stdout",
     "output_type": "stream",
     "text": [
      "5*4*3*2*1* 결과 : 120\n"
     ]
    }
   ],
   "source": [
    "def factorial(n):\n",
    "    print(f\"{n}*\",end='')\n",
    "    if n==1:\n",
    "        return n\n",
    "    return n * factorial(n-1)\n",
    "print(f\" 결과 : {factorial(5)}\")"
   ]
  },
  {
   "cell_type": "markdown",
   "id": "1aea0937",
   "metadata": {},
   "source": [
    "## 최대공약수 : 최대 두개의 정수의 공통 약수중에서 가장 큰것을 의미"
   ]
  },
  {
   "cell_type": "code",
   "execution_count": 7,
   "id": "06fc0330",
   "metadata": {},
   "outputs": [
    {
     "name": "stdout",
     "output_type": "stream",
     "text": [
      "최대공약수 : 5\n"
     ]
    }
   ],
   "source": [
    "def gcd(a,b):\n",
    "    i = min(a,b)\n",
    "    while True:\n",
    "        if a%i == 0 and b%i == 0:\n",
    "            return i\n",
    "        else :\n",
    "            i = i-1\n",
    "            \n",
    "r = gcd(5,10)\n",
    "\n",
    "if r !=1:\n",
    "    print(f\"최대공약수 : {r}\")\n",
    "else:\n",
    "    print(\"공약수 없다.\")\n"
   ]
  },
  {
   "cell_type": "markdown",
   "id": "f1e69fc6",
   "metadata": {},
   "source": [
    "## 최소공배수 : 최소 두개의 정수의 공통 배수중에서 가장 작은것을 의미"
   ]
  },
  {
   "cell_type": "code",
   "execution_count": 10,
   "id": "e1d7a717",
   "metadata": {},
   "outputs": [
    {
     "name": "stdout",
     "output_type": "stream",
     "text": [
      "최소공배수 : 10\n"
     ]
    }
   ],
   "source": [
    "def lcm(a,b):\n",
    "    for i in range(max(a,b),(a*b)+1):\n",
    "        if i%a == 0 and i%b == 0:\n",
    "            return i\n",
    "\n",
    "res = lcm(5,10)\n",
    "print(f\"최소공배수 : {res}\")"
   ]
  }
 ],
 "metadata": {
  "kernelspec": {
   "display_name": "Python 3 (ipykernel)",
   "language": "python",
   "name": "python3"
  },
  "language_info": {
   "codemirror_mode": {
    "name": "ipython",
    "version": 3
   },
   "file_extension": ".py",
   "mimetype": "text/x-python",
   "name": "python",
   "nbconvert_exporter": "python",
   "pygments_lexer": "ipython3",
   "version": "3.10.9"
  }
 },
 "nbformat": 4,
 "nbformat_minor": 5
}
