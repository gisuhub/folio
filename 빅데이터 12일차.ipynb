{
 "cells": [
  {
   "cell_type": "markdown",
   "id": "08fb1239",
   "metadata": {},
   "source": [
    "## sort 알고리즘"
   ]
  },
  {
   "cell_type": "code",
   "execution_count": 18,
   "id": "5ba928bd",
   "metadata": {},
   "outputs": [
    {
     "data": {
      "text/plain": [
       "(10, 9)"
      ]
     },
     "execution_count": 18,
     "metadata": {},
     "output_type": "execute_result"
    }
   ],
   "source": [
    "\n",
    "def swap(a,b):\n",
    "    c = b\n",
    "    b = a\n",
    "    a = c\n",
    "    return a,b\n",
    "    \n",
    "    \n",
    "swap(9,10)"
   ]
  },
  {
   "cell_type": "code",
   "execution_count": 48,
   "id": "28035f37",
   "metadata": {},
   "outputs": [
    {
     "ename": "IndexError",
     "evalue": "list index out of range",
     "output_type": "error",
     "traceback": [
      "\u001b[1;31m---------------------------------------------------------------------------\u001b[0m",
      "\u001b[1;31mIndexError\u001b[0m                                Traceback (most recent call last)",
      "Cell \u001b[1;32mIn[48], line 18\u001b[0m\n\u001b[0;32m     13\u001b[0m         \u001b[38;5;28;01melse\u001b[39;00m:\n\u001b[0;32m     14\u001b[0m             swap(i[row],i[row\u001b[38;5;241m+\u001b[39m\u001b[38;5;241m1\u001b[39m])\n\u001b[1;32m---> 18\u001b[0m \u001b[38;5;28mprint\u001b[39m(\u001b[43msort\u001b[49m\u001b[43m(\u001b[49m\u001b[43ma\u001b[49m\u001b[43m)\u001b[49m)\n",
      "Cell \u001b[1;32mIn[48], line 9\u001b[0m, in \u001b[0;36msort\u001b[1;34m(i)\u001b[0m\n\u001b[0;32m      7\u001b[0m \u001b[38;5;28;01mdef\u001b[39;00m \u001b[38;5;21msort\u001b[39m(i):\n\u001b[0;32m      8\u001b[0m     \u001b[38;5;28;01mfor\u001b[39;00m row \u001b[38;5;129;01min\u001b[39;00m \u001b[38;5;28mrange\u001b[39m(\u001b[38;5;28mlen\u001b[39m(i)):\n\u001b[1;32m----> 9\u001b[0m         \u001b[38;5;28;01mif\u001b[39;00m i[row] \u001b[38;5;241m>\u001b[39m \u001b[43mi\u001b[49m\u001b[43m[\u001b[49m\u001b[43mrow\u001b[49m\u001b[38;5;241;43m+\u001b[39;49m\u001b[38;5;241;43m1\u001b[39;49m\u001b[43m]\u001b[49m:\n\u001b[0;32m     10\u001b[0m             swap(i[row],i[row\u001b[38;5;241m+\u001b[39m\u001b[38;5;241m1\u001b[39m])\n\u001b[0;32m     11\u001b[0m         \u001b[38;5;28;01melif\u001b[39;00m i[row] \u001b[38;5;241m<\u001b[39m i[row\u001b[38;5;241m+\u001b[39m\u001b[38;5;241m1\u001b[39m]:\n",
      "\u001b[1;31mIndexError\u001b[0m: list index out of range"
     ]
    }
   ],
   "source": [
    "a = [5,2,6,3,1,7,9,8]\n",
    "def swap(a,b):\n",
    "    c = b\n",
    "    b = a\n",
    "    a = c\n",
    "    return a,b\n",
    "def sort(i):\n",
    "    for row in range(len(i)):\n",
    "        if i[row] > i[row+1]:\n",
    "            swap(i[row],i[row+1])\n",
    "        elif i[row] < i[row+1]:\n",
    "            continue\n",
    "        else:\n",
    "            swap(i[row],i[row+1])\n",
    "        \n",
    "       \n",
    "    \n",
    "print(sort(a))"
   ]
  },
  {
   "cell_type": "code",
   "execution_count": 49,
   "id": "d5327dee",
   "metadata": {},
   "outputs": [
    {
     "name": "stdout",
     "output_type": "stream",
     "text": [
      "[1, 2, 3, 5, 6, 7, 8, 9]\n"
     ]
    }
   ],
   "source": [
    "a = [5, 2, 6, 3, 1, 7, 9, 8]\n",
    "\n",
    "def swap(lst, idx1, idx2):\n",
    "    lst[idx1], lst[idx2] = lst[idx2], lst[idx1]\n",
    "\n",
    "def bubble_sort(lst):\n",
    "    n = len(lst)\n",
    "    for i in range(n):\n",
    "        for j in range(0, n-i-1):\n",
    "            if lst[j] > lst[j+1]:\n",
    "                swap(lst, j, j+1)\n",
    "\n",
    "bubble_sort(a)\n",
    "print(a)"
   ]
  },
  {
   "cell_type": "code",
   "execution_count": null,
   "id": "e1617b44",
   "metadata": {},
   "outputs": [],
   "source": []
  }
 ],
 "metadata": {
  "kernelspec": {
   "display_name": "Python 3 (ipykernel)",
   "language": "python",
   "name": "python3"
  },
  "language_info": {
   "codemirror_mode": {
    "name": "ipython",
    "version": 3
   },
   "file_extension": ".py",
   "mimetype": "text/x-python",
   "name": "python",
   "nbconvert_exporter": "python",
   "pygments_lexer": "ipython3",
   "version": "3.10.9"
  }
 },
 "nbformat": 4,
 "nbformat_minor": 5
}
