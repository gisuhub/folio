{
 "cells": [
  {
   "cell_type": "code",
   "execution_count": 18,
   "id": "b89325dd",
   "metadata": {},
   "outputs": [
    {
     "name": "stdout",
     "output_type": "stream",
     "text": [
      "11 11 11 11 11 11 11 11 11 11 합 : \n"
     ]
    }
   ],
   "source": [
    "k_i = [1,2,3,4,5,6,7,8,9,10]\n",
    "\n",
    "for i in range(0,len(k_i)):\n",
    "    suuum = k_i[i] + k_i[-1-i]\n",
    "    print(suuum,end = ' ')\n",
    "    \n",
    "\n",
    "print(f\"합 : \")"
   ]
  },
  {
   "cell_type": "code",
   "execution_count": 19,
   "id": "905c5210",
   "metadata": {},
   "outputs": [],
   "source": [
    "f = open(\"hello.txt\",'w')"
   ]
  },
  {
   "cell_type": "code",
   "execution_count": 20,
   "id": "54db2b25",
   "metadata": {},
   "outputs": [
    {
     "name": "stdout",
     "output_type": "stream",
     "text": [
      "hello_.txt 파일이 없습니다.\n"
     ]
    }
   ],
   "source": [
    "try:\n",
    "    f = open(\"hello_.txt\",\"r\")\n",
    "except :\n",
    "    print(\"hello_.txt 파일이 없습니다.\")"
   ]
  },
  {
   "cell_type": "code",
   "execution_count": 21,
   "id": "44db1918",
   "metadata": {},
   "outputs": [
    {
     "name": "stdout",
     "output_type": "stream",
     "text": [
      "인덱싱 할 수 없습니다.\n"
     ]
    }
   ],
   "source": [
    "# many_error.py\n",
    "try:\n",
    "    a = [1,2]\n",
    "    print(a[3])\n",
    "    4/0\n",
    "except ZeroDivisionError:\n",
    "    print(\"0으로 나눌 수 없습니다.\")\n",
    "except IndexError:\n",
    "    print(\"인덱싱 할 수 없습니다.\")"
   ]
  },
  {
   "cell_type": "code",
   "execution_count": 23,
   "id": "804df9a2",
   "metadata": {},
   "outputs": [
    {
     "name": "stdout",
     "output_type": "stream",
     "text": [
      "thread 1 starts\n",
      "thread 1 running 0\n",
      "thread 2 starts\n",
      "thread 2 running 0\n",
      "thread 1 running 1\n",
      "thread 2 running 1\n",
      "thread 2 running 2\n",
      "thread 1 running 2\n",
      "thread 2 running 3\n",
      "thread 1 running 3\n",
      "thread 2 running 4\n",
      "thread 1 running 4\n",
      "thread 2 ends\n",
      "thread 1 running 5\n",
      "thread 1 running 6\n",
      "thread 1 running 7\n",
      "thread 1 running 8\n",
      "thread 1 running 9\n",
      "thread 1 ends\n"
     ]
    }
   ],
   "source": [
    "import threading\n",
    "import time\n",
    "def count(num,t,thread_num):\n",
    "    print(f\"thread {thread_num} starts\")\n",
    "    \n",
    "    for i in range(num):\n",
    "        print(f\"thread { thread_num} running {i}\")\n",
    "        time.sleep(t)\n",
    "    print(f\"thread {thread_num} ends\")\n",
    "thread_1 = threading.Thread(target = count, args = (10,0.1,1))\n",
    "thread_1.start()\n",
    "count(5,0.1,2)"
   ]
  },
  {
   "cell_type": "markdown",
   "id": "709451b9",
   "metadata": {},
   "source": [
    "```\n",
    "시분활\n",
    "짝수 홀수 둘다 실행할때\n",
    "짝수는 제일 낮은 숫자부터 2 하고\n",
    "그 다음 홀수가 1하고\n",
    "그 다음 짝수가 4하고\n",
    "그 다음 홀수가 3하고\n",
    "이런 식으로 왔다갔다 한다.\n",
    "우리 컴퓨터는 동시에 하는 것처럼 보이는 것일뿐 \n",
    "왔다갔다 요리조리 간다!\n",
    "```"
   ]
  },
  {
   "cell_type": "code",
   "execution_count": null,
   "id": "0bf6e0da",
   "metadata": {},
   "outputs": [],
   "source": []
  }
 ],
 "metadata": {
  "kernelspec": {
   "display_name": "Python 3 (ipykernel)",
   "language": "python",
   "name": "python3"
  },
  "language_info": {
   "codemirror_mode": {
    "name": "ipython",
    "version": 3
   },
   "file_extension": ".py",
   "mimetype": "text/x-python",
   "name": "python",
   "nbconvert_exporter": "python",
   "pygments_lexer": "ipython3",
   "version": "3.10.9"
  }
 },
 "nbformat": 4,
 "nbformat_minor": 5
}
