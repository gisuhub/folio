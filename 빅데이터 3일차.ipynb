{
 "cells": [
  {
   "cell_type": "code",
   "execution_count": 9,
   "id": "bb8622dc",
   "metadata": {},
   "outputs": [
    {
     "data": {
      "text/plain": [
       "{'월': 'MON', '화': 'TUE', '수': 'WED', '목': 'THE', '금': 'FRI'}"
      ]
     },
     "execution_count": 9,
     "metadata": {},
     "output_type": "execute_result"
    }
   ],
   "source": [
    "d = {'월':'MON','화':'TUE','수':'WED','목':'THE','금':'FRI'}\n",
    "d"
   ]
  },
  {
   "cell_type": "code",
   "execution_count": 11,
   "id": "b44370ce",
   "metadata": {},
   "outputs": [
    {
     "name": "stdout",
     "output_type": "stream",
     "text": [
      "학번을 입력하세요. : 30901\n"
     ]
    },
    {
     "data": {
      "text/plain": [
       "['강서영', '트젠']"
      ]
     },
     "execution_count": 11,
     "metadata": {},
     "output_type": "execute_result"
    }
   ],
   "source": [
    "tt = input(\"학번을 입력하세요. : \")\n",
    "\n",
    "stud = {'30901':['강서영','트젠'],'30902':['김준원','남성'],'30905':['김진완','여성'],'30906':['박기수','게이'],'30918':['황성대','게이']}\n",
    "\n",
    "stud[f'{tt}']"
   ]
  },
  {
   "cell_type": "code",
   "execution_count": 60,
   "id": "65adc717",
   "metadata": {},
   "outputs": [
    {
     "name": "stdout",
     "output_type": "stream",
     "text": [
      "학번을 입력하세여 : 30918\n",
      "이름을 입력하세요 : 황성기\n",
      "성별을 입력하세요 : 게이\n",
      "나이를 입력하세요 : 19\n",
      "['황성기', '게이', '19']\n"
     ]
    }
   ],
   "source": [
    "import shelve\n",
    "\n",
    "def save(key, value):\n",
    "    with shelve.open('shelve.dat') as d:\n",
    "        d[key] = value\n",
    "        \n",
    "def get(key):\n",
    "    with shelve.open(\"shelve.dat\") as d:\n",
    "        return d[key]\n",
    "\n",
    "while True:\n",
    "    tt = input(\"학번을 입력하세여 : \")\n",
    "    yy = input(\"이름을 입력하세요 : \")\n",
    "    uu = input(\"성별을 입력하세요 : \")\n",
    "    ii = input(\"나이를 입력하세요 : \")\n",
    "    break\n",
    "save(tt,[yy,uu,ii])\n",
    "print(get(tt))"
   ]
  },
  {
   "cell_type": "code",
   "execution_count": 70,
   "id": "3c72a02a",
   "metadata": {},
   "outputs": [
    {
     "name": "stdout",
     "output_type": "stream",
     "text": [
      "\n",
      "1. 학생 정보 추가\n",
      "2. 학생 정보 검색\n",
      "3. 종료\n",
      "선택하세요. : 2\n",
      "검색할 학생 번호를 입력하세요. : 30915\n",
      "학생 번호 : 30915,이름 : 전종현,나이 : 19), 전공 : 파이썬\n",
      "\n",
      "1. 학생 정보 추가\n",
      "2. 학생 정보 검색\n",
      "3. 종료\n",
      "선택하세요. : 3\n"
     ]
    }
   ],
   "source": [
    "import shelve\n",
    "\n",
    "\n",
    "def odd_student_info(student_dict):\n",
    "    student_number = input(\"학생 번호를 입력하세요. : \")\n",
    "    name = input(\"학생 이름을 입력하세요. : \")\n",
    "    age = input(\"학생 나이를 입력하세요. : \")\n",
    "    major = input(\"학생 전공을 입력하세요. : \")\n",
    "    \n",
    "    \n",
    "    student_dict[student_number] = {'name':name,'age':age,'major':major}\n",
    "    \n",
    "def search_student_info(student_dict):\n",
    "    student_number = input(\"검색할 학생 번호를 입력하세요. : \")\n",
    "    if student_number in student_dict:\n",
    "        info = student_dict[student_number]\n",
    "        print(f\"학생 번호 : {student_number},이름 : {info['name']},나이 : {info['age']}), 전공 : {info['major']}\")\n",
    "    else:\n",
    "        print(\"해당하는 학생의 정보를 찾을 수 없습니다.\")\n",
    "\n",
    "def main():\n",
    "    with shelve.open('student_data') as sheif:\n",
    "        if 'students' not in sheif:\n",
    "            sheif['students'] = {}\n",
    "            \n",
    "        student_dict = sheif['students']\n",
    "        while True:\n",
    "            print(\"\\n1. 학생 정보 추가\")\n",
    "            print(\"2. 학생 정보 검색\")\n",
    "            print(\"3. 종료\")\n",
    "            \n",
    "            choice = input(\"선택하세요. : \")\n",
    "            \n",
    "            if choice == '1':\n",
    "                odd_student_info(student_dict)\n",
    "            elif choice == '2':\n",
    "                search_student_info(student_dict)\n",
    "            elif choice == '3':\n",
    "                break\n",
    "            else:\n",
    "                print(\"올바른 선택이 아닙니다. 다시 선택해 주세요.\")\n",
    "                \n",
    "        sheif['students'] = student_dict\n",
    "        \n",
    "if __name__ == \"__main__\":\n",
    "    main()"
   ]
  }
 ],
 "metadata": {
  "kernelspec": {
   "display_name": "Python 3 (ipykernel)",
   "language": "python",
   "name": "python3"
  },
  "language_info": {
   "codemirror_mode": {
    "name": "ipython",
    "version": 3
   },
   "file_extension": ".py",
   "mimetype": "text/x-python",
   "name": "python",
   "nbconvert_exporter": "python",
   "pygments_lexer": "ipython3",
   "version": "3.10.9"
  }
 },
 "nbformat": 4,
 "nbformat_minor": 5
}
