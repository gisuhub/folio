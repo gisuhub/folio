{
 "cells": [
  {
   "cell_type": "code",
   "execution_count": 1,
   "id": "ee2b1f76",
   "metadata": {},
   "outputs": [
    {
     "name": "stdout",
     "output_type": "stream",
     "text": [
      "55\n"
     ]
    }
   ],
   "source": [
    " def add_self(c):\n",
    "    if c==1:\n",
    "        return 1\n",
    "    else:\n",
    "        return c + add_self(c-1)\n",
    "    \n",
    "res = add_self(10)\n",
    "print(res)"
   ]
  },
  {
   "cell_type": "code",
   "execution_count": 14,
   "id": "a0bc57fe",
   "metadata": {},
   "outputs": [
    {
     "name": "stdout",
     "output_type": "stream",
     "text": [
      "105\n"
     ]
    }
   ],
   "source": [
    "def n_add(h):\n",
    "    if h%2 == 0:\n",
    "        t = h//2\n",
    "        sum = h*t + t\n",
    "    elif h%2 == 1:\n",
    "        t = h//2+1\n",
    "        sum = h*t\n",
    "    print(sum)\n",
    "    \n",
    "n_add(14)"
   ]
  },
  {
   "cell_type": "code",
   "execution_count": 15,
   "id": "46f4de86",
   "metadata": {},
   "outputs": [
    {
     "data": {
      "image/png": "[encoded data removed]",
      "text/plain": [
       "<Figure size 500x500 with 1 Axes>"
      ]
     },
     "metadata": {},
     "output_type": "display_data"
    }
   ],
   "source": [
    "x = [1,2,3]\n",
    "y= [1,3,2]\n",
    "n =len(x)\n",
    "\n",
    "sum_x = sum_y = 0\n",
    "for i in range(n):\n",
    "    sum_x ==x[i]\n",
    "    sum_y==y[i]\n",
    "    \n",
    "mean_x = sum_x/n\n",
    "mean_y = sum_y/n\n",
    "mean_x, mean_y\n",
    "sum_xx = sum_xy=0\n",
    "\n",
    "for i in range(n):\n",
    "    sum_xx+=(x[i]-mean_x)**2\n",
    "    sum_xy+=(x[i]-mean_x)*(y[i]-mean_y)\n",
    "    \n",
    "    beta = sum_xy/sum_xx\n",
    "    alpha=mean_y-beta*mean_x\n",
    "    alpha, beta\n",
    "    \n",
    "import matplotlib.pyplot as plt\n",
    "\n",
    "reg_x=[0,1,2,3,4,5]\n",
    "reg_y =[(alpha+beta*x) for x in reg_x]\n",
    "\n",
    "plt.figure(figsize=(5,5))\n",
    "plt.grid()\n",
    "plt.scatter(x,y)\n",
    "plt.plot(reg_x,reg_y,\"r-\")\n",
    "plt.show()"
   ]
  }
 ],
 "metadata": {
  "kernelspec": {
   "display_name": "Python 3 (ipykernel)",
   "language": "python",
   "name": "python3"
  },
  "language_info": {
   "codemirror_mode": {
    "name": "ipython",
    "version": 3
   },
   "file_extension": ".py",
   "mimetype": "text/x-python",
   "name": "python",
   "nbconvert_exporter": "python",
   "pygments_lexer": "ipython3",
   "version": "3.10.9"
  }
 },
 "nbformat": 4,
 "nbformat_minor": 5
}
