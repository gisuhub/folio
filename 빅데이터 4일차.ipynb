{
 "cells": [
  {
   "cell_type": "code",
   "execution_count": 1,
   "id": "7b20af1c",
   "metadata": {},
   "outputs": [
    {
     "name": "stderr",
     "output_type": "stream",
     "text": [
      "ERROR: Could not find a version that satisfies the requirement shelve (from versions: none)\n",
      "ERROR: No matching distribution found for shelve\n"
     ]
    }
   ],
   "source": [
    "!pip install shelve"
   ]
  },
  {
   "cell_type": "code",
   "execution_count": 2,
   "id": "af6a8d0b",
   "metadata": {},
   "outputs": [
    {
     "name": "stdout",
     "output_type": "stream",
     "text": [
      "{1, 2, 3, 4, 5}\n"
     ]
    }
   ],
   "source": [
    "my_list = [1,2,3,4,2,5]\n",
    "my_set = set(my_list)\n",
    "print(my_set)"
   ]
  },
  {
   "cell_type": "code",
   "execution_count": 3,
   "id": "9b616801",
   "metadata": {},
   "outputs": [
    {
     "data": {
      "text/plain": [
       "list"
      ]
     },
     "execution_count": 3,
     "metadata": {},
     "output_type": "execute_result"
    }
   ],
   "source": [
    "type(my_list)"
   ]
  },
  {
   "cell_type": "code",
   "execution_count": 113,
   "id": "44b52ded",
   "metadata": {},
   "outputs": [],
   "source": [
    "my_list = list(my_set)"
   ]
  },
  {
   "cell_type": "code",
   "execution_count": 114,
   "id": "2a4d4df6",
   "metadata": {},
   "outputs": [],
   "source": [
    "my_list = [x for x in range(1, 6)]"
   ]
  },
  {
   "cell_type": "code",
   "execution_count": 115,
   "id": "4428b91f",
   "metadata": {},
   "outputs": [
    {
     "data": {
      "text/plain": [
       "[1, 2, 3, 4, 5]"
      ]
     },
     "execution_count": 115,
     "metadata": {},
     "output_type": "execute_result"
    }
   ],
   "source": [
    "my_list"
   ]
  },
  {
   "cell_type": "code",
   "execution_count": 6,
   "id": "1a66c03d",
   "metadata": {},
   "outputs": [],
   "source": [
    "grade = [80,75,55]"
   ]
  },
  {
   "cell_type": "code",
   "execution_count": 9,
   "id": "fea8b283",
   "metadata": {},
   "outputs": [
    {
     "name": "stdout",
     "output_type": "stream",
     "text": [
      "i: 80\n",
      "i: 75\n",
      "i: 55\n",
      "합계 210\n"
     ]
    }
   ],
   "source": [
    "hap = 0\n",
    "\n",
    "for i in grade:\n",
    "    print(\"i:\",i)\n",
    "    hap = hap+i\n",
    "    \n",
    "print(\"합계 %d\" % hap)\n"
   ]
  },
  {
   "cell_type": "code",
   "execution_count": 10,
   "id": "c0660830",
   "metadata": {},
   "outputs": [
    {
     "name": "stdout",
     "output_type": "stream",
     "text": [
      "Odd\n"
     ]
    }
   ],
   "source": [
    "if 13%2 == 0:\n",
    "    print(\"Even\")\n",
    "else:\n",
    "    print(\"Odd\")\n",
    "    "
   ]
  },
  {
   "cell_type": "code",
   "execution_count": 64,
   "id": "ba04d3df",
   "metadata": {},
   "outputs": [
    {
     "name": "stdout",
     "output_type": "stream",
     "text": [
      "당신은 88년 11월 20일 입니다\n"
     ]
    }
   ],
   "source": [
    "a = \"881120-1068234\"\n",
    "\n",
    "s = a.split(\"-\")\n",
    "s\n",
    "\n",
    "print(f'당신은 {s[0][0:2]}년 {s[0][2:4]}월 {s[0][4:6]}일 입니다')"
   ]
  },
  {
   "cell_type": "code",
   "execution_count": 72,
   "id": "e19a2e67",
   "metadata": {
    "scrolled": true
   },
   "outputs": [
    {
     "name": "stdout",
     "output_type": "stream",
     "text": [
      "비행기 탔어열\n",
      "VVIP 좌석\n"
     ]
    }
   ],
   "source": [
    "money = True\n",
    "\n",
    "if money:\n",
    "    print(\"비행기 탔어열\")\n",
    "    print(\"VVIP 좌석\")\n",
    "else:\n",
    "    print(\"오늘 못가\")"
   ]
  },
  {
   "cell_type": "code",
   "execution_count": 86,
   "id": "461be513",
   "metadata": {},
   "outputs": [
    {
     "name": "stdout",
     "output_type": "stream",
     "text": [
      "카드를 버린다.\n"
     ]
    }
   ],
   "source": [
    "money = None\n",
    "card = True\n",
    "\n",
    "\n",
    "if money:\n",
    "    if card:\n",
    "        print(\"기부한다.\")\n",
    "    else:\n",
    "        print(\"살지마\")\n",
    "else:\n",
    "    if card:\n",
    "        print(\"카드를 버린다.\")\n",
    "    else:\n",
    "        print(\"넌 뭐하고 사냐??\")"
   ]
  },
  {
   "cell_type": "code",
   "execution_count": 88,
   "id": "5a9b249d",
   "metadata": {},
   "outputs": [
    {
     "data": {
      "text/plain": [
       "False"
      ]
     },
     "execution_count": 88,
     "metadata": {},
     "output_type": "execute_result"
    }
   ],
   "source": [
    "l = [1,2,3,4]\n",
    "5 in l"
   ]
  },
  {
   "cell_type": "code",
   "execution_count": 22,
   "id": "6d061281",
   "metadata": {},
   "outputs": [
    {
     "name": "stdout",
     "output_type": "stream",
     "text": [
      "남성\n"
     ]
    }
   ],
   "source": [
    "pin = \"881120-1068234\"\n",
    "\n",
    "pin = pin.split(\"-\")\n",
    "\n",
    "\n",
    "if pin[1][0] == 1 or 3:\n",
    "    print(\"남성\")\n",
    "else:\n",
    "    print(\"여성\")"
   ]
  },
  {
   "cell_type": "code",
   "execution_count": 23,
   "id": "b9505284",
   "metadata": {},
   "outputs": [
    {
     "data": {
      "text/plain": [
       "'a#b#c#d'"
      ]
     },
     "execution_count": 23,
     "metadata": {},
     "output_type": "execute_result"
    }
   ],
   "source": [
    "a = \"a:b:c:d\"\n",
    "a.replace(\":\",\"#\")"
   ]
  },
  {
   "cell_type": "code",
   "execution_count": 148,
   "id": "45c08b21",
   "metadata": {},
   "outputs": [
    {
     "name": "stdout",
     "output_type": "stream",
     "text": [
      "[5, 4, 3, 2, 1]\n"
     ]
    }
   ],
   "source": [
    "lklist = [1,2,5,4,3]\n",
    "lklist.sort()\n",
    "print(lklist[::-1])"
   ]
  },
  {
   "cell_type": "code",
   "execution_count": 146,
   "id": "1531dce3",
   "metadata": {},
   "outputs": [
    {
     "data": {
      "text/plain": [
       "2.6"
      ]
     },
     "execution_count": 146,
     "metadata": {},
     "output_type": "execute_result"
    }
   ],
   "source": [
    "sum(lklist)/len(lklist)"
   ]
  },
  {
   "cell_type": "code",
   "execution_count": 152,
   "id": "95f4a2e5",
   "metadata": {},
   "outputs": [
    {
     "name": "stdout",
     "output_type": "stream",
     "text": [
      "2 4 "
     ]
    }
   ],
   "source": [
    "for i in range(len(lklist)):\n",
    "    if lklist[i] % 2 == 0:\n",
    "        print(lklist[i],end=\" \")"
   ]
  },
  {
   "cell_type": "code",
   "execution_count": 4,
   "id": "8dcee3fc",
   "metadata": {},
   "outputs": [
    {
     "name": "stdout",
     "output_type": "stream",
     "text": [
      "Requirement already satisfied: opencv-python in c:\\users\\user\\anaconda3\\lib\\site-packages (4.9.0.80)\n",
      "Requirement already satisfied: numpy>=1.21.2 in c:\\users\\user\\anaconda3\\lib\\site-packages (from opencv-python) (1.23.5)\n"
     ]
    }
   ],
   "source": [
    "!pip install opencv-python"
   ]
  },
  {
   "cell_type": "code",
   "execution_count": 5,
   "id": "af070603",
   "metadata": {},
   "outputs": [
    {
     "ename": "AttributeError",
     "evalue": "module 'cv2' has no attribute 'destroyAIIWindows'",
     "output_type": "error",
     "traceback": [
      "\u001b[1;31m---------------------------------------------------------------------------\u001b[0m",
      "\u001b[1;31mAttributeError\u001b[0m                            Traceback (most recent call last)",
      "Cell \u001b[1;32mIn[5], line 9\u001b[0m\n\u001b[0;32m      7\u001b[0m cv2\u001b[38;5;241m.\u001b[39mimshow(\u001b[38;5;124m\"\u001b[39m\u001b[38;5;124mGray Image\u001b[39m\u001b[38;5;124m\"\u001b[39m,gray_image)\n\u001b[0;32m      8\u001b[0m cv2\u001b[38;5;241m.\u001b[39mwaitKey(\u001b[38;5;241m0\u001b[39m)\n\u001b[1;32m----> 9\u001b[0m \u001b[43mcv2\u001b[49m\u001b[38;5;241;43m.\u001b[39;49m\u001b[43mdestroyAIIWindows\u001b[49m()\n",
      "\u001b[1;31mAttributeError\u001b[0m: module 'cv2' has no attribute 'destroyAIIWindows'"
     ]
    }
   ],
   "source": [
    "import cv2\n",
    "\n",
    "image_path = \"sample.jpg\"\n",
    "\n",
    "image = cv2.imread(image_path)\n",
    "gray_image = cv2.cvtColor(image, cv2.COLOR_BGR2GRAY)\n",
    "cv2.imshow(\"Gray Image\",gray_image)\n",
    "cv2.waitKey(0)\n",
    "cv2.destroyAIIWindows()\n"
   ]
  },
  {
   "cell_type": "code",
   "execution_count": 7,
   "id": "c62b1643",
   "metadata": {},
   "outputs": [
    {
     "data": {
      "text/plain": [
       "array([[[252, 252, 252],\n",
       "        [255, 255, 255],\n",
       "        [228, 228, 228],\n",
       "        ...,\n",
       "        [254, 254, 254],\n",
       "        [253, 253, 253],\n",
       "        [251, 251, 251]],\n",
       "\n",
       "       [[253, 253, 253],\n",
       "        [253, 253, 253],\n",
       "        [238, 238, 238],\n",
       "        ...,\n",
       "        [255, 255, 255],\n",
       "        [255, 255, 255],\n",
       "        [255, 255, 255]],\n",
       "\n",
       "       [[255, 255, 255],\n",
       "        [253, 253, 253],\n",
       "        [254, 254, 254],\n",
       "        ...,\n",
       "        [253, 253, 253],\n",
       "        [254, 254, 254],\n",
       "        [254, 254, 254]],\n",
       "\n",
       "       ...,\n",
       "\n",
       "       [[254, 254, 254],\n",
       "        [255, 255, 255],\n",
       "        [253, 253, 253],\n",
       "        ...,\n",
       "        [255, 255, 252],\n",
       "        [235, 232, 228],\n",
       "        [223, 220, 216]],\n",
       "\n",
       "       [[255, 255, 255],\n",
       "        [255, 255, 255],\n",
       "        [253, 253, 253],\n",
       "        ...,\n",
       "        [249, 244, 246],\n",
       "        [246, 239, 242],\n",
       "        [225, 218, 221]],\n",
       "\n",
       "       [[253, 253, 253],\n",
       "        [255, 255, 255],\n",
       "        [252, 252, 252],\n",
       "        ...,\n",
       "        [255, 252, 255],\n",
       "        [255, 247, 253],\n",
       "        [255, 250, 255]]], dtype=uint8)"
      ]
     },
     "execution_count": 7,
     "metadata": {},
     "output_type": "execute_result"
    }
   ],
   "source": [
    "image"
   ]
  },
  {
   "cell_type": "code",
   "execution_count": 6,
   "id": "b9ed7712",
   "metadata": {},
   "outputs": [
    {
     "data": {
      "text/plain": [
       "array([[252, 255, 228, ..., 254, 253, 251],\n",
       "       [253, 253, 238, ..., 255, 255, 255],\n",
       "       [255, 253, 254, ..., 253, 254, 254],\n",
       "       ...,\n",
       "       [254, 255, 253, ..., 254, 231, 219],\n",
       "       [255, 255, 253, ..., 245, 241, 220],\n",
       "       [253, 255, 252, ..., 253, 250, 252]], dtype=uint8)"
      ]
     },
     "execution_count": 6,
     "metadata": {},
     "output_type": "execute_result"
    }
   ],
   "source": [
    "gray_image"
   ]
  },
  {
   "cell_type": "code",
   "execution_count": 43,
   "id": "480b6c8e",
   "metadata": {},
   "outputs": [
    {
     "data": {
      "text/plain": [
       "'Life is too short'"
      ]
     },
     "execution_count": 43,
     "metadata": {},
     "output_type": "execute_result"
    }
   ],
   "source": [
    "yyy = [\"Life\",\"is\",\"too\",\"short\"]\n",
    "\n",
    "\" \".join(yyy)"
   ]
  },
  {
   "cell_type": "code",
   "execution_count": 55,
   "id": "864b545e",
   "metadata": {},
   "outputs": [
    {
     "name": "stdout",
     "output_type": "stream",
     "text": [
      "(1, 2, 3, 4)\n"
     ]
    }
   ],
   "source": [
    "tue = (1,2,3)\n",
    "tye = (4,)\n",
    "c = tue+tye\n",
    "print(c)"
   ]
  },
  {
   "cell_type": "code",
   "execution_count": 56,
   "id": "0e025c6b",
   "metadata": {},
   "outputs": [
    {
     "data": {
      "text/plain": [
       "80"
      ]
     },
     "execution_count": 56,
     "metadata": {},
     "output_type": "execute_result"
    }
   ],
   "source": [
    "a = {'A':90,'B':80,'C':70}\n",
    "a.pop('B')"
   ]
  },
  {
   "cell_type": "code",
   "execution_count": 57,
   "id": "78c15e86",
   "metadata": {},
   "outputs": [
    {
     "data": {
      "text/plain": [
       "{1, 2, 3, 4, 5}"
      ]
     },
     "execution_count": 57,
     "metadata": {},
     "output_type": "execute_result"
    }
   ],
   "source": [
    "a = [1,1,1,2,2,3,3,3,4,4,5]\n",
    "t = set(a)\n",
    "t"
   ]
  },
  {
   "cell_type": "code",
   "execution_count": 65,
   "id": "a2aa2b8b",
   "metadata": {},
   "outputs": [
    {
     "name": "stdout",
     "output_type": "stream",
     "text": [
      "[1, 4, 3]\n"
     ]
    },
    {
     "data": {
      "text/plain": [
       "[1, 4, 3]"
      ]
     },
     "execution_count": 65,
     "metadata": {},
     "output_type": "execute_result"
    }
   ],
   "source": [
    "a = b =[1,2,3]\n",
    "a[1] = 4\n",
    "\n",
    "print(b)\n",
    "[1,4,3]"
   ]
  },
  {
   "cell_type": "code",
   "execution_count": 2,
   "id": "ce427f39",
   "metadata": {},
   "outputs": [
    {
     "name": "stdout",
     "output_type": "stream",
     "text": [
      "Both x and y are positive.\n"
     ]
    }
   ],
   "source": [
    "x = 5\n",
    "y = 10\n",
    "\n",
    "if x > 0 and y > 0:\n",
    "    print(\"Both x and y are positive.\")\n",
    "else:\n",
    "    print(\"negattive\")"
   ]
  },
  {
   "cell_type": "code",
   "execution_count": 3,
   "id": "84879cba",
   "metadata": {},
   "outputs": [
    {
     "name": "stdout",
     "output_type": "stream",
     "text": [
      "It`s not raining\n"
     ]
    }
   ],
   "source": [
    "is_raining = False\n",
    "\n",
    "if not is_raining:\n",
    "    print(\"It`s not raining\")\n",
    "else:\n",
    "    print(\"It`s raining\")"
   ]
  },
  {
   "cell_type": "code",
   "execution_count": 10,
   "id": "9098aa80",
   "metadata": {},
   "outputs": [
    {
     "name": "stdout",
     "output_type": "stream",
     "text": [
      "Requirement already satisfied: numpy in c:\\users\\user\\anaconda3\\lib\\site-packages (1.23.5)\n"
     ]
    }
   ],
   "source": [
    "!pip install numpy"
   ]
  },
  {
   "cell_type": "code",
   "execution_count": 12,
   "id": "2a644f52",
   "metadata": {},
   "outputs": [
    {
     "ename": "AttributeError",
     "evalue": "module 'cv2' has no attribute 'destroyAIIWindows'",
     "output_type": "error",
     "traceback": [
      "\u001b[1;31m---------------------------------------------------------------------------\u001b[0m",
      "\u001b[1;31mAttributeError\u001b[0m                            Traceback (most recent call last)",
      "Cell \u001b[1;32mIn[12], line 11\u001b[0m\n\u001b[0;32m      9\u001b[0m cv2\u001b[38;5;241m.\u001b[39mimshow(\u001b[38;5;124m\"\u001b[39m\u001b[38;5;124mRed Image\u001b[39m\u001b[38;5;124m\"\u001b[39m,red_color)\n\u001b[0;32m     10\u001b[0m cv2\u001b[38;5;241m.\u001b[39mwaitKey(\u001b[38;5;241m0\u001b[39m)\n\u001b[1;32m---> 11\u001b[0m \u001b[43mcv2\u001b[49m\u001b[38;5;241;43m.\u001b[39;49m\u001b[43mdestroyAIIWindows\u001b[49m()\n",
      "\u001b[1;31mAttributeError\u001b[0m: module 'cv2' has no attribute 'destroyAIIWindows'"
     ]
    }
   ],
   "source": [
    "import numpy as np\n",
    "import cv2\n",
    "\n",
    "width = 400\n",
    "height = 300\n",
    "\n",
    "red_color = np.full((height,width,3),(0,0,255), dtype = np.uint8)\n",
    "\n",
    "cv2.imshow(\"Red Image\",red_color)\n",
    "cv2.waitKey(0)\n",
    "cv2.destroyAIIWindows()"
   ]
  }
 ],
 "metadata": {
  "kernelspec": {
   "display_name": "Python 3 (ipykernel)",
   "language": "python",
   "name": "python3"
  },
  "language_info": {
   "codemirror_mode": {
    "name": "ipython",
    "version": 3
   },
   "file_extension": ".py",
   "mimetype": "text/x-python",
   "name": "python",
   "nbconvert_exporter": "python",
   "pygments_lexer": "ipython3",
   "version": "3.10.9"
  }
 },
 "nbformat": 4,
 "nbformat_minor": 5
}
