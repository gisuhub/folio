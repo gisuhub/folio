{
 "cells": [
  {
   "cell_type": "code",
   "execution_count": 3,
   "id": "1ff824a7",
   "metadata": {},
   "outputs": [
    {
     "name": "stdout",
     "output_type": "stream",
     "text": [
      "1 2 4 5 3 6 7 [False, True, True, True, True, True, True, True]\n"
     ]
    },
    {
     "data": {
      "text/plain": [
       "list"
      ]
     },
     "execution_count": 3,
     "metadata": {},
     "output_type": "execute_result"
    }
   ],
   "source": [
    "graph = [\n",
    "    [],\n",
    "    [2,3],\n",
    "    [4,5],\n",
    "    [6],\n",
    "    [2,5],\n",
    "    [2,4],\n",
    "    [3,7],\n",
    "    [6]\n",
    "]\n",
    "\n",
    "visited = [False] * 8\n",
    "\n",
    "def dfs(v):\n",
    "    visited[v] = True\n",
    "    print(v,end = ' ')\n",
    "    for i in graph[v]:\n",
    "        if not visited[i]:\n",
    "            dfs(i)\n",
    "            \n",
    "dfs(1)\n",
    "print(visited)\n",
    "type(visited)"
   ]
  },
  {
   "cell_type": "code",
   "execution_count": 22,
   "id": "f7592d3b",
   "metadata": {},
   "outputs": [
    {
     "name": "stdout",
     "output_type": "stream",
     "text": [
      "1 2 3 4 5 6 7 "
     ]
    }
   ],
   "source": [
    "from collections import deque\n",
    "\n",
    "graph = [\n",
    "    [],\n",
    "    [2,3],\n",
    "    [4,5],\n",
    "    [6],\n",
    "    [2,5],\n",
    "    [2,4],\n",
    "    [3,7],\n",
    "    [6]\n",
    "]\n",
    "\n",
    "visited = [False] * 8\n",
    "\n",
    "def bfs(v):\n",
    "    q = deque()\n",
    "    q.append(v)\n",
    "    while q:\n",
    "        x = q.popleft()\n",
    "        print(x,end = ' ')\n",
    "        for i in graph[x]:\n",
    "            if not visited[i]:\n",
    "                q.append(i)\n",
    "                visited[i] = True\n",
    "                \n",
    "bfs(1)"
   ]
  },
  {
   "cell_type": "code",
   "execution_count": 12,
   "id": "c7a95d06",
   "metadata": {},
   "outputs": [],
   "source": [
    "que = [4,5,6]\n"
   ]
  },
  {
   "cell_type": "code",
   "execution_count": 13,
   "id": "0ff7c40b",
   "metadata": {},
   "outputs": [],
   "source": [
    "que.insert(0,2)"
   ]
  },
  {
   "cell_type": "code",
   "execution_count": 14,
   "id": "ceb6f967",
   "metadata": {},
   "outputs": [
    {
     "data": {
      "text/plain": [
       "[2, 4, 5, 6]"
      ]
     },
     "execution_count": 14,
     "metadata": {},
     "output_type": "execute_result"
    }
   ],
   "source": [
    "que"
   ]
  },
  {
   "cell_type": "code",
   "execution_count": 15,
   "id": "7088e353",
   "metadata": {},
   "outputs": [],
   "source": [
    "que.insert(0,1)"
   ]
  },
  {
   "cell_type": "code",
   "execution_count": 16,
   "id": "6c2a4d61",
   "metadata": {},
   "outputs": [
    {
     "data": {
      "text/plain": [
       "[1, 2, 4, 5, 6]"
      ]
     },
     "execution_count": 16,
     "metadata": {},
     "output_type": "execute_result"
    }
   ],
   "source": [
    "que"
   ]
  },
  {
   "cell_type": "code",
   "execution_count": 17,
   "id": "0be9d3e0",
   "metadata": {},
   "outputs": [
    {
     "data": {
      "text/plain": [
       "6"
      ]
     },
     "execution_count": 17,
     "metadata": {},
     "output_type": "execute_result"
    }
   ],
   "source": [
    "que.pop()"
   ]
  },
  {
   "cell_type": "code",
   "execution_count": 18,
   "id": "83727c85",
   "metadata": {},
   "outputs": [
    {
     "data": {
      "text/plain": [
       "[1, 2, 4, 5]"
      ]
     },
     "execution_count": 18,
     "metadata": {},
     "output_type": "execute_result"
    }
   ],
   "source": [
    "que"
   ]
  },
  {
   "cell_type": "code",
   "execution_count": 19,
   "id": "1a3f8640",
   "metadata": {},
   "outputs": [
    {
     "data": {
      "text/plain": [
       "4"
      ]
     },
     "execution_count": 19,
     "metadata": {},
     "output_type": "execute_result"
    }
   ],
   "source": [
    "que.pop(2)"
   ]
  },
  {
   "cell_type": "code",
   "execution_count": 20,
   "id": "6d982342",
   "metadata": {},
   "outputs": [
    {
     "data": {
      "text/plain": [
       "[1, 2, 5]"
      ]
     },
     "execution_count": 20,
     "metadata": {},
     "output_type": "execute_result"
    }
   ],
   "source": [
    "que"
   ]
  },
  {
   "cell_type": "code",
   "execution_count": 24,
   "id": "39de0493",
   "metadata": {},
   "outputs": [
    {
     "name": "stdout",
     "output_type": "stream",
     "text": [
      "4.242640687119285\n"
     ]
    }
   ],
   "source": [
    "import math\n",
    "\n",
    "def my_func(x1,y1,x2,y2):\n",
    "    return math.sqrt((x2-x1)**2+(y2-y1)**2)\n",
    "\n",
    "print(my_func(2,2,5,5))"
   ]
  }
 ],
 "metadata": {
  "kernelspec": {
   "display_name": "Python 3 (ipykernel)",
   "language": "python",
   "name": "python3"
  },
  "language_info": {
   "codemirror_mode": {
    "name": "ipython",
    "version": 3
   },
   "file_extension": ".py",
   "mimetype": "text/x-python",
   "name": "python",
   "nbconvert_exporter": "python",
   "pygments_lexer": "ipython3",
   "version": "3.10.9"
  }
 },
 "nbformat": 4,
 "nbformat_minor": 5
}
